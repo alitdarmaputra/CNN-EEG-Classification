{
  "cells": [
    {
      "cell_type": "markdown",
      "metadata": {
        "id": "HIloTKmzW1DM",
        "papermill": {
          "duration": 0.021613,
          "end_time": "2020-12-30T14:50:48.958704",
          "exception": false,
          "start_time": "2020-12-30T14:50:48.937091",
          "status": "completed"
        },
        "tags": []
      },
      "source": [
        "# Importing Libraries"
      ]
    },
    {
      "cell_type": "code",
      "execution_count": 1,
      "metadata": {
        "_cell_guid": "b1076dfc-b9ad-4769-8c92-a6c4dae69d19",
        "_uuid": "8f2839f25d086af736a60e9eeb907d3b93b6e0e5",
        "execution": {
          "iopub.execute_input": "2020-12-30T14:50:49.018728Z",
          "iopub.status.busy": "2020-12-30T14:50:49.017863Z",
          "iopub.status.idle": "2020-12-30T14:50:54.001185Z",
          "shell.execute_reply": "2020-12-30T14:50:54.000192Z"
        },
        "id": "ueMl4gerW1Dd",
        "papermill": {
          "duration": 5.021778,
          "end_time": "2020-12-30T14:50:54.001301",
          "exception": false,
          "start_time": "2020-12-30T14:50:48.979523",
          "status": "completed"
        },
        "tags": []
      },
      "outputs": [],
      "source": [
        "import numpy as np\n",
        "import pandas as pd\n",
        "from matplotlib import pyplot as plt\n",
        "import tensorflow as tf\n",
        "from sklearn.model_selection import train_test_split"
      ]
    },
    {
      "cell_type": "markdown",
      "metadata": {
        "id": "OprXx2hRW1Dl",
        "papermill": {
          "duration": 0.02079,
          "end_time": "2020-12-30T14:50:54.043431",
          "exception": false,
          "start_time": "2020-12-30T14:50:54.022641",
          "status": "completed"
        },
        "tags": []
      },
      "source": [
        "# Dataset"
      ]
    },
    {
      "cell_type": "code",
      "execution_count": 3,
      "metadata": {
        "_cell_guid": "79c7e3d0-c299-4dcb-8224-4455121ee9b0",
        "_uuid": "d629ff2d2480ee46fbb7e2d37f6b5fab8052498a",
        "execution": {
          "iopub.execute_input": "2020-12-30T14:50:54.107577Z",
          "iopub.status.busy": "2020-12-30T14:50:54.106900Z",
          "iopub.status.idle": "2020-12-30T14:50:59.133568Z",
          "shell.execute_reply": "2020-12-30T14:50:59.132525Z"
        },
        "id": "vEF5sVqdW1Dm",
        "papermill": {
          "duration": 5.069702,
          "end_time": "2020-12-30T14:50:59.133682",
          "exception": false,
          "start_time": "2020-12-30T14:50:54.063980",
          "status": "completed"
        },
        "tags": []
      },
      "outputs": [],
      "source": [
        "s00 = pd.read_csv('./input/s00.csv',header=None)\n",
        "s01 = pd.read_csv('./input/s01.csv',header=None)\n",
        "s02 = pd.read_csv('./input/s02.csv',header=None)\n",
        "s03 = pd.read_csv('./input/s03.csv',header=None)\n",
        "s04 = pd.read_csv('./input/s04.csv',header=None)\n",
        "s05 = pd.read_csv('./input/s05.csv',header=None)\n",
        "s06 = pd.read_csv('./input/s06.csv',header=None)\n",
        "s07 = pd.read_csv('./input/s07.csv',header=None)\n",
        "s08 = pd.read_csv('./input/s08.csv',header=None)\n",
        "s09 = pd.read_csv('./input/s09.csv',header=None)\n",
        "s10 = pd.read_csv('./input/s10.csv',header=None)\n",
        "s11 = pd.read_csv('./input/s11.csv',header=None)\n",
        "s12 = pd.read_csv('./input/s12.csv',header=None)\n",
        "s13 = pd.read_csv('./input/s13.csv',header=None)\n",
        "s14 = pd.read_csv('./input/s14.csv',header=None)\n",
        "s15 = pd.read_csv('./input/s15.csv',header=None)\n",
        "s16 = pd.read_csv('./input/s16.csv',header=None)\n",
        "s17 = pd.read_csv('./input/s17.csv',header=None)\n",
        "s18 = pd.read_csv('./input/s18.csv',header=None)\n",
        "s19 = pd.read_csv('./input/s19.csv',header=None)\n",
        "s20 = pd.read_csv('./input/s20.csv',header=None)\n",
        "s21 = pd.read_csv('./input/s21.csv',header=None)\n",
        "s22 = pd.read_csv('./input/s22.csv',header=None)\n",
        "s23 = pd.read_csv('./input/s23.csv',header=None)\n",
        "s24 = pd.read_csv('./input/s24.csv',header=None)\n",
        "s25 = pd.read_csv('./input/s25.csv',header=None)\n",
        "s26 = pd.read_csv('./input/s26.csv',header=None)\n",
        "s27 = pd.read_csv('./input/s27.csv',header=None)\n",
        "s28 = pd.read_csv('./input/s28.csv',header=None)\n",
        "s29 = pd.read_csv('./input/s29.csv',header=None)\n",
        "s30 = pd.read_csv('./input/s30.csv',header=None)\n",
        "s31 = pd.read_csv('./input/s31.csv',header=None)\n",
        "s32 = pd.read_csv('./input/s32.csv',header=None)\n",
        "s33 = pd.read_csv('./input/s33.csv',header=None)\n",
        "s34 = pd.read_csv('./input/s34.csv',header=None)\n",
        "s35 = pd.read_csv('./input/s35.csv',header=None)"
      ]
    },
    {
      "cell_type": "code",
      "execution_count": 4,
      "metadata": {
        "colab": {
          "base_uri": "https://localhost:8080/"
        },
        "execution": {
          "iopub.execute_input": "2020-12-30T14:50:59.183605Z",
          "iopub.status.busy": "2020-12-30T14:50:59.182835Z",
          "iopub.status.idle": "2020-12-30T14:50:59.186849Z",
          "shell.execute_reply": "2020-12-30T14:50:59.187283Z"
        },
        "id": "7NgN1OpaW1Dr",
        "outputId": "f40bb08a-3e49-4efc-da9d-66506234678c",
        "papermill": {
          "duration": 0.03185,
          "end_time": "2020-12-30T14:50:59.187389",
          "exception": false,
          "start_time": "2020-12-30T14:50:59.155539",
          "status": "completed"
        },
        "tags": []
      },
      "outputs": [
        {
          "data": {
            "text/plain": [
              "(31000, 19)"
            ]
          },
          "execution_count": 4,
          "metadata": {},
          "output_type": "execute_result"
        }
      ],
      "source": [
        "s00.shape"
      ]
    },
    {
      "cell_type": "markdown",
      "metadata": {
        "id": "74UJeTT_W1Dw",
        "papermill": {
          "duration": 0.02075,
          "end_time": "2020-12-30T14:50:59.229493",
          "exception": false,
          "start_time": "2020-12-30T14:50:59.208743",
          "status": "completed"
        },
        "tags": []
      },
      "source": [
        "# Reshape Matriks"
      ]
    },
    {
      "cell_type": "code",
      "execution_count": 5,
      "metadata": {
        "execution": {
          "iopub.execute_input": "2020-12-30T14:50:59.313280Z",
          "iopub.status.busy": "2020-12-30T14:50:59.294664Z",
          "iopub.status.idle": "2020-12-30T14:50:59.315710Z",
          "shell.execute_reply": "2020-12-30T14:50:59.315283Z"
        },
        "id": "B_GX-spaW1Dy",
        "papermill": {
          "duration": 0.065202,
          "end_time": "2020-12-30T14:50:59.315792",
          "exception": false,
          "start_time": "2020-12-30T14:50:59.250590",
          "status": "completed"
        },
        "tags": []
      },
      "outputs": [],
      "source": [
        "s00=s00.transpose().to_numpy()\n",
        "s00=s00.reshape(760,775)\n",
        "s01=s01.transpose().to_numpy()\n",
        "s01=s01.reshape(760,775)\n",
        "s02=s02.transpose().to_numpy()\n",
        "s02=s02.reshape(760,775)\n",
        "s03=s03.transpose().to_numpy()\n",
        "s03=s03.reshape(760,775)\n",
        "s04=s04.transpose().to_numpy()\n",
        "s04=s04.reshape(760,775)\n",
        "s05=s05.transpose().to_numpy()\n",
        "s05=s05.reshape(760,775)\n",
        "s06=s06.transpose().to_numpy()\n",
        "s06=s06.reshape(760,775)\n",
        "s07=s07.transpose().to_numpy()\n",
        "s07=s07.reshape(760,775)\n",
        "s08=s08.transpose().to_numpy()\n",
        "s08=s08.reshape(760,775)\n",
        "s09=s09.transpose().to_numpy()\n",
        "s09=s09.reshape(760,775)\n",
        "s10=s10.transpose().to_numpy()\n",
        "s10=s10.reshape(760,775)\n",
        "s11=s11.transpose().to_numpy()\n",
        "s11=s11.reshape(760,775)\n",
        "s12=s12.transpose().to_numpy()\n",
        "s12=s12.reshape(760,775)\n",
        "s13=s13.transpose().to_numpy()\n",
        "s13=s13.reshape(760,775)\n",
        "s14=s14.transpose().to_numpy()\n",
        "s14=s14.reshape(760,775)\n",
        "s15=s15.transpose().to_numpy()\n",
        "s15=s15.reshape(760,775)\n",
        "s16=s16.transpose().to_numpy()\n",
        "s16=s16.reshape(760,775)\n",
        "s17=s17.transpose().to_numpy()\n",
        "s17=s17.reshape(760,775)\n",
        "s18=s18.transpose().to_numpy()\n",
        "s18=s18.reshape(760,775)\n",
        "s19=s19.transpose().to_numpy()\n",
        "s19=s19.reshape(760,775)\n",
        "s20=s20.transpose().to_numpy()\n",
        "s20=s20.reshape(760,775)\n",
        "s21=s21.transpose().to_numpy()\n",
        "s21=s21.reshape(760,775)\n",
        "s22=s22.transpose().to_numpy()\n",
        "s22=s22.reshape(760,775)\n",
        "s23=s23.transpose().to_numpy()\n",
        "s23=s23.reshape(760,775)\n",
        "s24=s24.transpose().to_numpy()\n",
        "s24=s24.reshape(760,775)\n",
        "s25=s25.transpose().to_numpy()\n",
        "s25=s25.reshape(760,775)\n",
        "s26=s26.transpose().to_numpy()\n",
        "s26=s26.reshape(760,775)\n",
        "s27=s27.transpose().to_numpy()\n",
        "s27=s27.reshape(760,775)\n",
        "s28=s28.transpose().to_numpy()\n",
        "s28=s28.reshape(760,775)\n",
        "s29=s29.transpose().to_numpy()\n",
        "s29=s29.reshape(760,775)\n",
        "s30=s30.transpose().to_numpy()\n",
        "s30=s30.reshape(760,775)\n",
        "s31=s31.transpose().to_numpy()\n",
        "s31=s31.reshape(760,775)\n",
        "s32=s32.transpose().to_numpy()\n",
        "s32=s32.reshape(760,775)\n",
        "s33=s33.transpose().to_numpy()\n",
        "s33=s33.reshape(760,775)\n",
        "s34=s34.transpose().to_numpy()\n",
        "s34=s34.reshape(760,775)\n",
        "s35=s35.transpose().to_numpy()\n",
        "s35=s35.reshape(760,775)"
      ]
    },
    {
      "cell_type": "code",
      "execution_count": 6,
      "metadata": {
        "colab": {
          "base_uri": "https://localhost:8080/",
          "height": 472
        },
        "id": "NN28MwUCdPyW",
        "outputId": "6c4fa211-95fa-4c68-8c16-d934e4c6724d"
      },
      "outputs": [
        {
          "data": {
            "image/png": "[encoded data removed]",
            "text/plain": [
              "<Figure size 640x480 with 1 Axes>"
            ]
          },
          "metadata": {},
          "output_type": "display_data"
        }
      ],
      "source": [
        "channel_index = 0  # kolom datanya, range 0-759\n",
        "plt.plot(s15[channel_index, :]) # visualisasi subjek 15 channel 0\n",
        "plt.title(f'EEG Signal - Channel {channel_index + 1}')\n",
        "plt.xlabel('Time')\n",
        "plt.ylabel('EEG Signal Amplitude')\n",
        "plt.show()\n"
      ]
    },
    {
      "cell_type": "markdown",
      "metadata": {
        "id": "UAnfW2gEW1D1",
        "papermill": {
          "duration": 0.021077,
          "end_time": "2020-12-30T14:50:59.358158",
          "exception": false,
          "start_time": "2020-12-30T14:50:59.337081",
          "status": "completed"
        },
        "tags": []
      },
      "source": [
        "# Mengumpulkan semua data menjadi 1"
      ]
    },
    {
      "cell_type": "markdown",
      "metadata": {
        "id": "-cJ_Oq5hgMbo"
      },
      "source": [
        "Data terdiri dari rekaman 36 subjek."
      ]
    },
    {
      "cell_type": "code",
      "execution_count": 7,
      "metadata": {
        "execution": {
          "iopub.execute_input": "2020-12-30T14:50:59.408703Z",
          "iopub.status.busy": "2020-12-30T14:50:59.407597Z",
          "iopub.status.idle": "2020-12-30T14:50:59.460771Z",
          "shell.execute_reply": "2020-12-30T14:50:59.460268Z"
        },
        "id": "47p_VZIIW1D3",
        "papermill": {
          "duration": 0.081475,
          "end_time": "2020-12-30T14:50:59.460874",
          "exception": false,
          "start_time": "2020-12-30T14:50:59.379399",
          "status": "completed"
        },
        "tags": []
      },
      "outputs": [],
      "source": [
        "dataset= np.array([[s00],[s01],[s02],[s03],[s04],[s05],[s06],[s07],\n",
        "                  [s08],[s09],[s10],[s11],[s12],[s13],[s14],[s15],[s16],[s17],[s18],[s19],\n",
        "                  [s20],[s21],[s22],[s23],[s24],[s25],[s26],[s27],\n",
        "                  [s28],[s29],[s30],[s31],[s32],[s33],[s34],[s35]])"
      ]
    },
    {
      "cell_type": "code",
      "execution_count": 8,
      "metadata": {
        "colab": {
          "base_uri": "https://localhost:8080/"
        },
        "execution": {
          "iopub.execute_input": "2020-12-30T14:50:59.509344Z",
          "iopub.status.busy": "2020-12-30T14:50:59.508734Z",
          "iopub.status.idle": "2020-12-30T14:50:59.513976Z",
          "shell.execute_reply": "2020-12-30T14:50:59.514368Z"
        },
        "id": "gMzB7_9nW1D5",
        "outputId": "7e8d423f-8fc3-428a-b7c1-bb631f51615c",
        "papermill": {
          "duration": 0.030987,
          "end_time": "2020-12-30T14:50:59.514473",
          "exception": false,
          "start_time": "2020-12-30T14:50:59.483486",
          "status": "completed"
        },
        "tags": []
      },
      "outputs": [
        {
          "data": {
            "text/plain": [
              "(36, 1, 760, 775)"
            ]
          },
          "execution_count": 8,
          "metadata": {},
          "output_type": "execute_result"
        }
      ],
      "source": [
        "dataset.shape"
      ]
    },
    {
      "cell_type": "markdown",
      "metadata": {
        "id": "atjgGaIuW1D7",
        "papermill": {
          "duration": 0.021704,
          "end_time": "2020-12-30T14:50:59.557734",
          "exception": false,
          "start_time": "2020-12-30T14:50:59.536030",
          "status": "completed"
        },
        "tags": []
      },
      "source": [
        "# Seting seed agar konsisten"
      ]
    },
    {
      "cell_type": "code",
      "execution_count": 47,
      "metadata": {
        "execution": {
          "iopub.execute_input": "2020-12-30T14:50:59.606229Z",
          "iopub.status.busy": "2020-12-30T14:50:59.604764Z",
          "iopub.status.idle": "2020-12-30T14:50:59.607595Z",
          "shell.execute_reply": "2020-12-30T14:50:59.608048Z"
        },
        "id": "Zq0jHscbW1D8",
        "papermill": {
          "duration": 0.028749,
          "end_time": "2020-12-30T14:50:59.608155",
          "exception": false,
          "start_time": "2020-12-30T14:50:59.579406",
          "status": "completed"
        },
        "tags": []
      },
      "outputs": [],
      "source": [
        "seed = 69420\n",
        "tf.random.set_seed(seed)"
      ]
    },
    {
      "cell_type": "markdown",
      "metadata": {
        "id": "ofcM5LAsW1D9",
        "papermill": {
          "duration": 0.021699,
          "end_time": "2020-12-30T14:50:59.651850",
          "exception": false,
          "start_time": "2020-12-30T14:50:59.630151",
          "status": "completed"
        },
        "tags": []
      },
      "source": [
        "# Pendefinisian Arsitektur Model"
      ]
    },
    {
      "cell_type": "code",
      "execution_count": 48,
      "metadata": {
        "execution": {
          "iopub.execute_input": "2020-12-30T14:50:59.703121Z",
          "iopub.status.busy": "2020-12-30T14:50:59.702596Z",
          "iopub.status.idle": "2020-12-30T14:51:02.362703Z",
          "shell.execute_reply": "2020-12-30T14:51:02.361688Z"
        },
        "id": "EcHtIYzrW1D-",
        "papermill": {
          "duration": 2.689303,
          "end_time": "2020-12-30T14:51:02.362834",
          "exception": false,
          "start_time": "2020-12-30T14:50:59.673531",
          "status": "completed"
        },
        "tags": []
      },
      "outputs": [],
      "source": [
        "model = tf.keras.models.Sequential([\n",
        "    tf.keras.layers.Conv2D(40, (1, 1), activation = 'relu', input_shape = (1,760,775), padding='Valid',data_format='channels_first'), #40 filter conv2d\n",
        "    tf.keras.layers.Conv2D(20, (1, 1), activation = 'relu', padding='Valid',data_format='channels_first'),                            #20 filter conv2d\n",
        "    tf.keras.layers.Conv2D(10, (1, 1), activation = 'relu', padding='Valid',data_format='channels_first'),                            #10 filter conv2d\n",
        "    tf.keras.layers.MaxPool2D(2, 2),      #max pool untuk mendapat nilai max dari masing-masing filter\n",
        "    tf.keras.layers.Dropout(0.2),         #dropout untuk mencegah overfit\n",
        "    tf.keras.layers.Flatten(),            #flatten datanya agar bisa dimasukkan ke layer dense\n",
        "    tf.keras.layers.Dense(1, activation = 'sigmoid') #menggunakan aktivasi sigmoid karena binary class classification\n",
        "])"
      ]
    },
    {
      "cell_type": "code",
      "execution_count": 49,
      "metadata": {
        "execution": {
          "iopub.execute_input": "2020-12-30T14:51:02.447992Z",
          "iopub.status.busy": "2020-12-30T14:51:02.447451Z",
          "iopub.status.idle": "2020-12-30T14:51:02.474489Z",
          "shell.execute_reply": "2020-12-30T14:51:02.473846Z"
        },
        "id": "Ino8ifPYW1EA",
        "papermill": {
          "duration": 0.057305,
          "end_time": "2020-12-30T14:51:02.474590",
          "exception": false,
          "start_time": "2020-12-30T14:51:02.417285",
          "status": "completed"
        },
        "tags": []
      },
      "outputs": [],
      "source": [
        "model.compile(loss='binary_crossentropy', optimizer='adam',metrics=['acc'])"
      ]
    },
    {
      "cell_type": "code",
      "execution_count": 50,
      "metadata": {
        "colab": {
          "base_uri": "https://localhost:8080/"
        },
        "execution": {
          "iopub.execute_input": "2020-12-30T14:51:02.525038Z",
          "iopub.status.busy": "2020-12-30T14:51:02.524089Z",
          "iopub.status.idle": "2020-12-30T14:51:02.534199Z",
          "shell.execute_reply": "2020-12-30T14:51:02.533720Z"
        },
        "id": "Z3eYRkBTW1EB",
        "outputId": "f8e818c2-3860-468c-fe3d-48026ea9a622",
        "papermill": {
          "duration": 0.037243,
          "end_time": "2020-12-30T14:51:02.534291",
          "exception": false,
          "start_time": "2020-12-30T14:51:02.497048",
          "status": "completed"
        },
        "tags": []
      },
      "outputs": [
        {
          "name": "stdout",
          "output_type": "stream",
          "text": [
            "Model: \"sequential_3\"\n",
            "_________________________________________________________________\n",
            " Layer (type)                Output Shape              Param #   \n",
            "=================================================================\n",
            " conv2d_7 (Conv2D)           (None, 40, 760, 775)      80        \n",
            "                                                                 \n",
            " conv2d_8 (Conv2D)           (None, 20, 760, 775)      820       \n",
            "                                                                 \n",
            " conv2d_9 (Conv2D)           (None, 10, 760, 775)      210       \n",
            "                                                                 \n",
            " max_pooling2d_3 (MaxPoolin  (None, 5, 380, 775)       0         \n",
            " g2D)                                                            \n",
            "                                                                 \n",
            " dropout_3 (Dropout)         (None, 5, 380, 775)       0         \n",
            "                                                                 \n",
            " flatten_3 (Flatten)         (None, 1472500)           0         \n",
            "                                                                 \n",
            " dense_3 (Dense)             (None, 1)                 1472501   \n",
            "                                                                 \n",
            "=================================================================\n",
            "Total params: 1473611 (5.62 MB)\n",
            "Trainable params: 1473611 (5.62 MB)\n",
            "Non-trainable params: 0 (0.00 Byte)\n",
            "_________________________________________________________________\n"
          ]
        }
      ],
      "source": [
        "model.summary()"
      ]
    },
    {
      "cell_type": "code",
      "execution_count": 51,
      "metadata": {
        "colab": {
          "base_uri": "https://localhost:8080/",
          "height": 758
        },
        "execution": {
          "iopub.execute_input": "2020-12-30T14:51:02.583690Z",
          "iopub.status.busy": "2020-12-30T14:51:02.583030Z",
          "iopub.status.idle": "2020-12-30T14:51:03.064433Z",
          "shell.execute_reply": "2020-12-30T14:51:03.063190Z"
        },
        "id": "zhQhx7wUW1EC",
        "outputId": "b8d2a698-96e7-47f7-dfec-043155055a17",
        "papermill": {
          "duration": 0.507733,
          "end_time": "2020-12-30T14:51:03.064533",
          "exception": false,
          "start_time": "2020-12-30T14:51:02.556800",
          "status": "completed"
        },
        "tags": []
      },
      "outputs": [
        {
          "data": {
            "image/png": "[encoded data removed]",
            "text/plain": [
              "<IPython.core.display.Image object>"
            ]
          },
          "execution_count": 51,
          "metadata": {},
          "output_type": "execute_result"
        }
      ],
      "source": [
        "tf.keras.utils.plot_model(model, to_file='model.png')"
      ]
    },
    {
      "cell_type": "markdown",
      "metadata": {
        "id": "Zr5xS1cXhD5V"
      },
      "source": [
        "# Pendefinisian Kelas Label Masing-Masing Subjek"
      ]
    },
    {
      "cell_type": "markdown",
      "metadata": {
        "id": "P2iBG73EhGlH"
      },
      "source": [
        "Kelas label 1 berarti bahwa subjek tersebut tergolong Good Counter, yaitu orang-orang yang bisa menghitung dalam pikiran dengan baik.\n",
        "\n",
        "Kelas label 0 berarti bahwa subjek tersebut tergolong Bad Counter, yaitu orang-orang yang tidak bisa menghitung dalam pikiran dengan baik."
      ]
    },
    {
      "cell_type": "code",
      "execution_count": 53,
      "metadata": {
        "execution": {
          "iopub.execute_input": "2020-12-30T14:51:03.119415Z",
          "iopub.status.busy": "2020-12-30T14:51:03.117661Z",
          "iopub.status.idle": "2020-12-30T14:51:03.120118Z",
          "shell.execute_reply": "2020-12-30T14:51:03.120535Z"
        },
        "id": "Kx8hI330W1ED",
        "papermill": {
          "duration": 0.032266,
          "end_time": "2020-12-30T14:51:03.120632",
          "exception": false,
          "start_time": "2020-12-30T14:51:03.088366",
          "status": "completed"
        },
        "tags": []
      },
      "outputs": [],
      "source": [
        "y=np.array([0,1,1,1,0,1,0,1,1,0,0,1,1,1,0,1,1,1,1,0,1,0,0,1,1,1,1,1,1,1,0,1,1,1,1,1]) #didapat dari salah satu kode di kaggle. Pada dataset tidak diberikan labelnya"
      ]
    },
    {
      "cell_type": "markdown",
      "metadata": {
        "id": "5G_izpYUW1EE",
        "papermill": {
          "duration": 0.022974,
          "end_time": "2020-12-30T14:51:03.167189",
          "exception": false,
          "start_time": "2020-12-30T14:51:03.144215",
          "status": "completed"
        },
        "tags": []
      },
      "source": [
        "# Oversampling data dengan SMOTE\n",
        "\n",
        "### Synthetic Minority Oversampling Technique\n",
        "Hal ini dilakukan untuk menambah jumlah dataset dengan melakukan oversampling dengan teknik SMOTE."
      ]
    },
    {
      "cell_type": "code",
      "execution_count": 54,
      "metadata": {
        "colab": {
          "base_uri": "https://localhost:8080/"
        },
        "execution": {
          "iopub.execute_input": "2020-12-30T14:51:03.217831Z",
          "iopub.status.busy": "2020-12-30T14:51:03.217219Z",
          "iopub.status.idle": "2020-12-30T14:51:03.221731Z",
          "shell.execute_reply": "2020-12-30T14:51:03.221312Z"
        },
        "id": "hZyWmygHW1EF",
        "outputId": "ffc5cfc9-7eee-4f2b-d80a-bb72fe0b207a",
        "papermill": {
          "duration": 0.031128,
          "end_time": "2020-12-30T14:51:03.221817",
          "exception": false,
          "start_time": "2020-12-30T14:51:03.190689",
          "status": "completed"
        },
        "tags": []
      },
      "outputs": [
        {
          "name": "stdout",
          "output_type": "stream",
          "text": [
            "(36, 589000)\n"
          ]
        }
      ],
      "source": [
        "original = dataset.shape\n",
        "print(original)"
      ]
    },
    {
      "cell_type": "code",
      "execution_count": 55,
      "metadata": {
        "execution": {
          "iopub.execute_input": "2020-12-30T14:51:03.275128Z",
          "iopub.status.busy": "2020-12-30T14:51:03.273339Z",
          "iopub.status.idle": "2020-12-30T14:51:03.275723Z",
          "shell.execute_reply": "2020-12-30T14:51:03.276175Z"
        },
        "id": "iPbSAxw4W1EG",
        "papermill": {
          "duration": 0.030913,
          "end_time": "2020-12-30T14:51:03.276275",
          "exception": false,
          "start_time": "2020-12-30T14:51:03.245362",
          "status": "completed"
        },
        "tags": []
      },
      "outputs": [],
      "source": [
        "dataset= np.reshape(dataset, (36,-1 ))"
      ]
    },
    {
      "cell_type": "code",
      "execution_count": 56,
      "metadata": {
        "colab": {
          "base_uri": "https://localhost:8080/"
        },
        "execution": {
          "iopub.execute_input": "2020-12-30T14:51:03.327503Z",
          "iopub.status.busy": "2020-12-30T14:51:03.326778Z",
          "iopub.status.idle": "2020-12-30T14:51:03.331500Z",
          "shell.execute_reply": "2020-12-30T14:51:03.330928Z"
        },
        "id": "wVZGXJR6W1EH",
        "outputId": "52794778-5e80-43c0-fed5-3285fb4f6c1e",
        "papermill": {
          "duration": 0.031404,
          "end_time": "2020-12-30T14:51:03.331585",
          "exception": false,
          "start_time": "2020-12-30T14:51:03.300181",
          "status": "completed"
        },
        "tags": []
      },
      "outputs": [
        {
          "data": {
            "text/plain": [
              "(36, 589000)"
            ]
          },
          "execution_count": 56,
          "metadata": {},
          "output_type": "execute_result"
        }
      ],
      "source": [
        "dataset.shape"
      ]
    },
    {
      "cell_type": "code",
      "execution_count": 57,
      "metadata": {
        "execution": {
          "iopub.execute_input": "2020-12-30T14:51:03.384277Z",
          "iopub.status.busy": "2020-12-30T14:51:03.383739Z",
          "iopub.status.idle": "2020-12-30T14:51:04.031945Z",
          "shell.execute_reply": "2020-12-30T14:51:04.031124Z"
        },
        "id": "ScmzhU7aW1EI",
        "papermill": {
          "duration": 0.676411,
          "end_time": "2020-12-30T14:51:04.032068",
          "exception": false,
          "start_time": "2020-12-30T14:51:03.355657",
          "status": "completed"
        },
        "tags": []
      },
      "outputs": [],
      "source": [
        "from imblearn.over_sampling import SMOTE\n",
        "sm = SMOTE(random_state=42)\n",
        "X_res, y_res = sm.fit_resample(dataset, y)"
      ]
    },
    {
      "cell_type": "markdown",
      "metadata": {
        "id": "AULP4bnZW1EJ",
        "papermill": {
          "duration": 0.024567,
          "end_time": "2020-12-30T14:51:04.081469",
          "exception": false,
          "start_time": "2020-12-30T14:51:04.056902",
          "status": "completed"
        },
        "tags": []
      },
      "source": [
        "Jumlah data hasil oversampling ada sebanyak 52"
      ]
    },
    {
      "cell_type": "code",
      "execution_count": 63,
      "metadata": {
        "execution": {
          "iopub.execute_input": "2020-12-30T14:51:04.135517Z",
          "iopub.status.busy": "2020-12-30T14:51:04.133852Z",
          "iopub.status.idle": "2020-12-30T14:51:04.136367Z",
          "shell.execute_reply": "2020-12-30T14:51:04.136792Z"
        },
        "id": "xqB8nUzrW1EK",
        "papermill": {
          "duration": 0.031189,
          "end_time": "2020-12-30T14:51:04.136894",
          "exception": false,
          "start_time": "2020-12-30T14:51:04.105705",
          "status": "completed"
        },
        "tags": []
      },
      "outputs": [],
      "source": [
        "X_res=X_res.reshape(52,1,760,775)"
      ]
    },
    {
      "cell_type": "code",
      "execution_count": 65,
      "metadata": {
        "colab": {
          "base_uri": "https://localhost:8080/"
        },
        "execution": {
          "iopub.execute_input": "2020-12-30T14:51:04.191868Z",
          "iopub.status.busy": "2020-12-30T14:51:04.191370Z",
          "iopub.status.idle": "2020-12-30T14:51:04.196369Z",
          "shell.execute_reply": "2020-12-30T14:51:04.196858Z"
        },
        "id": "uWEQAQLbW1EK",
        "outputId": "9d0a9975-b3d1-4205-865c-0beda37fc0cc",
        "papermill": {
          "duration": 0.035118,
          "end_time": "2020-12-30T14:51:04.196985",
          "exception": false,
          "start_time": "2020-12-30T14:51:04.161867",
          "status": "completed"
        },
        "tags": []
      },
      "outputs": [
        {
          "data": {
            "text/plain": [
              "array([0, 1, 1, 1, 0, 1, 0, 1, 1, 0, 0, 1, 1, 1, 0, 1, 1, 1, 1, 0, 1, 0,\n",
              "       0, 1, 1, 1, 1, 1, 1, 1, 0, 1, 1, 1, 1, 1, 0, 0, 0, 0, 0, 0, 0, 0,\n",
              "       0, 0, 0, 0, 0, 0, 0, 0])"
            ]
          },
          "execution_count": 65,
          "metadata": {},
          "output_type": "execute_result"
        }
      ],
      "source": [
        "y_res"
      ]
    },
    {
      "cell_type": "markdown",
      "metadata": {
        "id": "JY_2jzCKW1EO",
        "papermill": {
          "duration": 0.029237,
          "end_time": "2020-12-30T14:51:04.856370",
          "exception": false,
          "start_time": "2020-12-30T14:51:04.827133",
          "status": "completed"
        },
        "tags": []
      },
      "source": [
        "# Pecah Dataset Menjadi Data Training dan Testing"
      ]
    },
    {
      "cell_type": "code",
      "execution_count": 66,
      "metadata": {
        "execution": {
          "iopub.execute_input": "2020-12-30T14:51:04.919937Z",
          "iopub.status.busy": "2020-12-30T14:51:04.919313Z",
          "iopub.status.idle": "2020-12-30T14:51:04.996627Z",
          "shell.execute_reply": "2020-12-30T14:51:04.996127Z"
        },
        "id": "ESLwelviW1EP",
        "papermill": {
          "duration": 0.110955,
          "end_time": "2020-12-30T14:51:04.996725",
          "exception": false,
          "start_time": "2020-12-30T14:51:04.885770",
          "status": "completed"
        },
        "tags": []
      },
      "outputs": [],
      "source": [
        "x_train, x_test, y_train, y_test = train_test_split(X_res, y_res, test_size=0.25, random_state=12,stratify=y_res)"
      ]
    },
    {
      "cell_type": "markdown",
      "metadata": {
        "id": "HKe_KVxpW1EQ",
        "papermill": {
          "duration": 0.028782,
          "end_time": "2020-12-30T14:51:05.054984",
          "exception": false,
          "start_time": "2020-12-30T14:51:05.026202",
          "status": "completed"
        },
        "tags": []
      },
      "source": [
        "## Training set\n",
        "\n",
        "Training setnya terdiri dari 39 data."
      ]
    },
    {
      "cell_type": "code",
      "execution_count": 67,
      "metadata": {
        "colab": {
          "base_uri": "https://localhost:8080/"
        },
        "execution": {
          "iopub.execute_input": "2020-12-30T14:51:05.117835Z",
          "iopub.status.busy": "2020-12-30T14:51:05.117098Z",
          "iopub.status.idle": "2020-12-30T14:51:05.120726Z",
          "shell.execute_reply": "2020-12-30T14:51:05.120315Z"
        },
        "id": "1QTPE0SYW1EQ",
        "outputId": "54947b1d-050e-4eeb-8f0c-5e8e50d9612a",
        "papermill": {
          "duration": 0.036771,
          "end_time": "2020-12-30T14:51:05.120821",
          "exception": false,
          "start_time": "2020-12-30T14:51:05.084050",
          "status": "completed"
        },
        "tags": []
      },
      "outputs": [
        {
          "data": {
            "text/plain": [
              "array([0, 0, 0, 1, 0, 0, 1, 1, 0, 0, 1, 1, 0, 1, 0, 0, 1, 0, 0, 0, 1, 1,\n",
              "       1, 1, 1, 1, 1, 0, 1, 0, 0, 0, 1, 0, 1, 1, 0, 0, 1])"
            ]
          },
          "execution_count": 67,
          "metadata": {},
          "output_type": "execute_result"
        }
      ],
      "source": [
        "y_train"
      ]
    },
    {
      "cell_type": "markdown",
      "metadata": {
        "id": "6Ik-5lxmW1ER",
        "papermill": {
          "duration": 0.029429,
          "end_time": "2020-12-30T14:51:05.179747",
          "exception": false,
          "start_time": "2020-12-30T14:51:05.150318",
          "status": "completed"
        },
        "tags": []
      },
      "source": [
        "## Test set\n",
        "\n",
        "Test setnya terdiri dari 13 data."
      ]
    },
    {
      "cell_type": "code",
      "execution_count": 68,
      "metadata": {
        "colab": {
          "base_uri": "https://localhost:8080/"
        },
        "execution": {
          "iopub.execute_input": "2020-12-30T14:51:05.242999Z",
          "iopub.status.busy": "2020-12-30T14:51:05.242226Z",
          "iopub.status.idle": "2020-12-30T14:51:05.246007Z",
          "shell.execute_reply": "2020-12-30T14:51:05.245587Z"
        },
        "id": "UrD3XcRFW1ES",
        "outputId": "8a225e9d-ed7e-4c32-92da-fc3b889a2b29",
        "papermill": {
          "duration": 0.036701,
          "end_time": "2020-12-30T14:51:05.246092",
          "exception": false,
          "start_time": "2020-12-30T14:51:05.209391",
          "status": "completed"
        },
        "tags": []
      },
      "outputs": [
        {
          "data": {
            "text/plain": [
              "array([1, 1, 1, 0, 0, 0, 1, 1, 0, 0, 1, 0, 1])"
            ]
          },
          "execution_count": 68,
          "metadata": {},
          "output_type": "execute_result"
        }
      ],
      "source": [
        "y_test"
      ]
    },
    {
      "cell_type": "markdown",
      "metadata": {
        "id": "E_xEyPXwW1ET",
        "papermill": {
          "duration": 0.03051,
          "end_time": "2020-12-30T14:51:05.306382",
          "exception": false,
          "start_time": "2020-12-30T14:51:05.275872",
          "status": "completed"
        },
        "tags": []
      },
      "source": [
        "# Training model"
      ]
    },
    {
      "cell_type": "code",
      "execution_count": 42,
      "metadata": {
        "colab": {
          "base_uri": "https://localhost:8080/"
        },
        "execution": {
          "iopub.execute_input": "2020-12-30T14:51:05.370951Z",
          "iopub.status.busy": "2020-12-30T14:51:05.370448Z",
          "iopub.status.idle": "2020-12-30T14:51:20.483216Z",
          "shell.execute_reply": "2020-12-30T14:51:20.482684Z"
        },
        "id": "5BbEbBmtW1ET",
        "outputId": "20ceac81-79f4-4db2-992d-ae6e6468022a",
        "papermill": {
          "duration": 15.147222,
          "end_time": "2020-12-30T14:51:20.483337",
          "exception": false,
          "start_time": "2020-12-30T14:51:05.336115",
          "status": "completed"
        },
        "tags": []
      },
      "outputs": [
        {
          "name": "stdout",
          "output_type": "stream",
          "text": [
            "Epoch 1/30\n",
            "31/31 [==============================] - 4s 50ms/step - loss: 189.3383 - acc: 0.5806 - recall_2: 0.5333 - auc_2: 0.5792 - precision_2: 0.5714 - val_loss: 35.4772 - val_acc: 0.8750 - val_recall_2: 1.0000 - val_auc_2: 0.8750 - val_precision_2: 0.8000\n",
            "Epoch 2/30\n",
            "31/31 [==============================] - 1s 22ms/step - loss: 50.3826 - acc: 0.7419 - recall_2: 0.8000 - auc_2: 0.7437 - precision_2: 0.7059 - val_loss: 7.6769e-36 - val_acc: 1.0000 - val_recall_2: 1.0000 - val_auc_2: 1.0000 - val_precision_2: 1.0000\n",
            "Epoch 3/30\n",
            "31/31 [==============================] - 1s 24ms/step - loss: 2.2865 - acc: 0.9677 - recall_2: 0.9333 - auc_2: 0.9667 - precision_2: 1.0000 - val_loss: 7.7775e-15 - val_acc: 1.0000 - val_recall_2: 1.0000 - val_auc_2: 1.0000 - val_precision_2: 1.0000\n",
            "Epoch 4/30\n",
            "31/31 [==============================] - 1s 24ms/step - loss: 1.5703e-23 - acc: 1.0000 - recall_2: 1.0000 - auc_2: 1.0000 - precision_2: 1.0000 - val_loss: 7.0274e-16 - val_acc: 1.0000 - val_recall_2: 1.0000 - val_auc_2: 1.0000 - val_precision_2: 1.0000\n",
            "Epoch 5/30\n",
            "31/31 [==============================] - 1s 24ms/step - loss: 9.0282e-24 - acc: 1.0000 - recall_2: 1.0000 - auc_2: 1.0000 - precision_2: 1.0000 - val_loss: 6.2963e-16 - val_acc: 1.0000 - val_recall_2: 1.0000 - val_auc_2: 1.0000 - val_precision_2: 1.0000\n",
            "Epoch 6/30\n",
            "31/31 [==============================] - 1s 20ms/step - loss: 2.5021e-23 - acc: 1.0000 - recall_2: 1.0000 - auc_2: 1.0000 - precision_2: 1.0000 - val_loss: 6.2665e-16 - val_acc: 1.0000 - val_recall_2: 1.0000 - val_auc_2: 1.0000 - val_precision_2: 1.0000\n",
            "Epoch 7/30\n",
            "31/31 [==============================] - 1s 19ms/step - loss: 4.8180e-24 - acc: 1.0000 - recall_2: 1.0000 - auc_2: 1.0000 - precision_2: 1.0000 - val_loss: 6.2657e-16 - val_acc: 1.0000 - val_recall_2: 1.0000 - val_auc_2: 1.0000 - val_precision_2: 1.0000\n",
            "Epoch 8/30\n",
            "31/31 [==============================] - 1s 19ms/step - loss: 3.6671e-23 - acc: 1.0000 - recall_2: 1.0000 - auc_2: 1.0000 - precision_2: 1.0000 - val_loss: 6.2657e-16 - val_acc: 1.0000 - val_recall_2: 1.0000 - val_auc_2: 1.0000 - val_precision_2: 1.0000\n",
            "Epoch 9/30\n",
            "31/31 [==============================] - 1s 19ms/step - loss: 2.4284e-23 - acc: 1.0000 - recall_2: 1.0000 - auc_2: 1.0000 - precision_2: 1.0000 - val_loss: 6.2657e-16 - val_acc: 1.0000 - val_recall_2: 1.0000 - val_auc_2: 1.0000 - val_precision_2: 1.0000\n",
            "Epoch 10/30\n",
            "31/31 [==============================] - 1s 19ms/step - loss: 1.7052e-23 - acc: 1.0000 - recall_2: 1.0000 - auc_2: 1.0000 - precision_2: 1.0000 - val_loss: 6.2657e-16 - val_acc: 1.0000 - val_recall_2: 1.0000 - val_auc_2: 1.0000 - val_precision_2: 1.0000\n",
            "Epoch 11/30\n",
            "31/31 [==============================] - 1s 19ms/step - loss: 7.6319e-24 - acc: 1.0000 - recall_2: 1.0000 - auc_2: 1.0000 - precision_2: 1.0000 - val_loss: 6.2657e-16 - val_acc: 1.0000 - val_recall_2: 1.0000 - val_auc_2: 1.0000 - val_precision_2: 1.0000\n",
            "Epoch 12/30\n",
            "31/31 [==============================] - 1s 19ms/step - loss: 7.8012e-24 - acc: 1.0000 - recall_2: 1.0000 - auc_2: 1.0000 - precision_2: 1.0000 - val_loss: 6.2657e-16 - val_acc: 1.0000 - val_recall_2: 1.0000 - val_auc_2: 1.0000 - val_precision_2: 1.0000\n",
            "Epoch 13/30\n",
            "31/31 [==============================] - 1s 19ms/step - loss: 7.4763e-23 - acc: 1.0000 - recall_2: 1.0000 - auc_2: 1.0000 - precision_2: 1.0000 - val_loss: 6.2657e-16 - val_acc: 1.0000 - val_recall_2: 1.0000 - val_auc_2: 1.0000 - val_precision_2: 1.0000\n",
            "Epoch 14/30\n",
            "31/31 [==============================] - 1s 19ms/step - loss: 7.6960e-24 - acc: 1.0000 - recall_2: 1.0000 - auc_2: 1.0000 - precision_2: 1.0000 - val_loss: 6.2657e-16 - val_acc: 1.0000 - val_recall_2: 1.0000 - val_auc_2: 1.0000 - val_precision_2: 1.0000\n",
            "Epoch 15/30\n",
            "31/31 [==============================] - 1s 22ms/step - loss: 2.0268e-23 - acc: 1.0000 - recall_2: 1.0000 - auc_2: 1.0000 - precision_2: 1.0000 - val_loss: 6.2657e-16 - val_acc: 1.0000 - val_recall_2: 1.0000 - val_auc_2: 1.0000 - val_precision_2: 1.0000\n",
            "Epoch 16/30\n",
            "31/31 [==============================] - 1s 19ms/step - loss: 8.1441e-24 - acc: 1.0000 - recall_2: 1.0000 - auc_2: 1.0000 - precision_2: 1.0000 - val_loss: 6.2657e-16 - val_acc: 1.0000 - val_recall_2: 1.0000 - val_auc_2: 1.0000 - val_precision_2: 1.0000\n",
            "Epoch 17/30\n",
            "31/31 [==============================] - 1s 19ms/step - loss: 3.4601e-23 - acc: 1.0000 - recall_2: 1.0000 - auc_2: 1.0000 - precision_2: 1.0000 - val_loss: 6.2657e-16 - val_acc: 1.0000 - val_recall_2: 1.0000 - val_auc_2: 1.0000 - val_precision_2: 1.0000\n",
            "Epoch 18/30\n",
            "31/31 [==============================] - 1s 19ms/step - loss: 2.6754e-24 - acc: 1.0000 - recall_2: 1.0000 - auc_2: 1.0000 - precision_2: 1.0000 - val_loss: 6.2657e-16 - val_acc: 1.0000 - val_recall_2: 1.0000 - val_auc_2: 1.0000 - val_precision_2: 1.0000\n",
            "Epoch 19/30\n",
            "31/31 [==============================] - 1s 19ms/step - loss: 6.5349e-24 - acc: 1.0000 - recall_2: 1.0000 - auc_2: 1.0000 - precision_2: 1.0000 - val_loss: 6.2657e-16 - val_acc: 1.0000 - val_recall_2: 1.0000 - val_auc_2: 1.0000 - val_precision_2: 1.0000\n",
            "Epoch 20/30\n",
            "31/31 [==============================] - 1s 22ms/step - loss: 4.0314e-24 - acc: 1.0000 - recall_2: 1.0000 - auc_2: 1.0000 - precision_2: 1.0000 - val_loss: 6.2657e-16 - val_acc: 1.0000 - val_recall_2: 1.0000 - val_auc_2: 1.0000 - val_precision_2: 1.0000\n",
            "Epoch 21/30\n",
            "31/31 [==============================] - 1s 19ms/step - loss: 9.2574e-24 - acc: 1.0000 - recall_2: 1.0000 - auc_2: 1.0000 - precision_2: 1.0000 - val_loss: 6.2657e-16 - val_acc: 1.0000 - val_recall_2: 1.0000 - val_auc_2: 1.0000 - val_precision_2: 1.0000\n",
            "Epoch 22/30\n",
            "31/31 [==============================] - 1s 19ms/step - loss: 5.7456e-24 - acc: 1.0000 - recall_2: 1.0000 - auc_2: 1.0000 - precision_2: 1.0000 - val_loss: 6.2657e-16 - val_acc: 1.0000 - val_recall_2: 1.0000 - val_auc_2: 1.0000 - val_precision_2: 1.0000\n",
            "Epoch 23/30\n",
            "31/31 [==============================] - 1s 24ms/step - loss: 1.0121e-23 - acc: 1.0000 - recall_2: 1.0000 - auc_2: 1.0000 - precision_2: 1.0000 - val_loss: 6.2657e-16 - val_acc: 1.0000 - val_recall_2: 1.0000 - val_auc_2: 1.0000 - val_precision_2: 1.0000\n",
            "Epoch 24/30\n",
            "31/31 [==============================] - 1s 24ms/step - loss: 3.0131e-24 - acc: 1.0000 - recall_2: 1.0000 - auc_2: 1.0000 - precision_2: 1.0000 - val_loss: 6.2657e-16 - val_acc: 1.0000 - val_recall_2: 1.0000 - val_auc_2: 1.0000 - val_precision_2: 1.0000\n",
            "Epoch 25/30\n",
            "31/31 [==============================] - 1s 22ms/step - loss: 9.1758e-24 - acc: 1.0000 - recall_2: 1.0000 - auc_2: 1.0000 - precision_2: 1.0000 - val_loss: 6.2657e-16 - val_acc: 1.0000 - val_recall_2: 1.0000 - val_auc_2: 1.0000 - val_precision_2: 1.0000\n",
            "Epoch 26/30\n",
            "31/31 [==============================] - 1s 22ms/step - loss: 1.4618e-23 - acc: 1.0000 - recall_2: 1.0000 - auc_2: 1.0000 - precision_2: 1.0000 - val_loss: 6.2657e-16 - val_acc: 1.0000 - val_recall_2: 1.0000 - val_auc_2: 1.0000 - val_precision_2: 1.0000\n",
            "Epoch 27/30\n",
            "31/31 [==============================] - 1s 22ms/step - loss: 6.2511e-24 - acc: 1.0000 - recall_2: 1.0000 - auc_2: 1.0000 - precision_2: 1.0000 - val_loss: 6.2657e-16 - val_acc: 1.0000 - val_recall_2: 1.0000 - val_auc_2: 1.0000 - val_precision_2: 1.0000\n",
            "Epoch 28/30\n",
            "31/31 [==============================] - 1s 23ms/step - loss: 8.9325e-24 - acc: 1.0000 - recall_2: 1.0000 - auc_2: 1.0000 - precision_2: 1.0000 - val_loss: 6.2657e-16 - val_acc: 1.0000 - val_recall_2: 1.0000 - val_auc_2: 1.0000 - val_precision_2: 1.0000\n",
            "Epoch 29/30\n",
            "31/31 [==============================] - 1s 21ms/step - loss: 1.0782e-23 - acc: 1.0000 - recall_2: 1.0000 - auc_2: 1.0000 - precision_2: 1.0000 - val_loss: 6.2657e-16 - val_acc: 1.0000 - val_recall_2: 1.0000 - val_auc_2: 1.0000 - val_precision_2: 1.0000\n",
            "Epoch 30/30\n",
            "31/31 [==============================] - 1s 19ms/step - loss: 1.8159e-23 - acc: 1.0000 - recall_2: 1.0000 - auc_2: 1.0000 - precision_2: 1.0000 - val_loss: 6.2657e-16 - val_acc: 1.0000 - val_recall_2: 1.0000 - val_auc_2: 1.0000 - val_precision_2: 1.0000\n"
          ]
        }
      ],
      "source": [
        "history = model.fit(x_train,y_train,batch_size=1,epochs=30,validation_split=0.20)"
      ]
    },
    {
      "cell_type": "code",
      "execution_count": 43,
      "metadata": {
        "colab": {
          "base_uri": "https://localhost:8080/",
          "height": 472
        },
        "execution": {
          "iopub.execute_input": "2020-12-30T14:51:20.658451Z",
          "iopub.status.busy": "2020-12-30T14:51:20.657071Z",
          "iopub.status.idle": "2020-12-30T14:51:20.789405Z",
          "shell.execute_reply": "2020-12-30T14:51:20.788795Z"
        },
        "id": "j3wOu8J7W1EU",
        "outputId": "c0530c0f-a5e4-4604-e621-cb60d10b4257",
        "papermill": {
          "duration": 0.225919,
          "end_time": "2020-12-30T14:51:20.789510",
          "exception": false,
          "start_time": "2020-12-30T14:51:20.563591",
          "status": "completed"
        },
        "tags": []
      },
      "outputs": [
        {
          "data": {
            "image/png": "[encoded data removed]",
            "text/plain": [
              "<Figure size 640x480 with 1 Axes>"
            ]
          },
          "metadata": {},
          "output_type": "display_data"
        }
      ],
      "source": [
        "plt.plot(history.history['acc'])\n",
        "plt.plot(history.history['val_acc'])\n",
        "plt.title('model accuracy')\n",
        "plt.ylabel('accuracy')\n",
        "plt.xlabel('epoch')\n",
        "plt.legend(['train', 'val'], loc='upper left')\n",
        "plt.show()"
      ]
    },
    {
      "cell_type": "code",
      "execution_count": 44,
      "metadata": {
        "colab": {
          "base_uri": "https://localhost:8080/",
          "height": 472
        },
        "execution": {
          "iopub.execute_input": "2020-12-30T14:51:20.965452Z",
          "iopub.status.busy": "2020-12-30T14:51:20.964221Z",
          "iopub.status.idle": "2020-12-30T14:51:21.097524Z",
          "shell.execute_reply": "2020-12-30T14:51:21.097052Z"
        },
        "id": "QQP-3ViJW1EV",
        "outputId": "604faebb-24a9-472a-a970-80a6ba86d887",
        "papermill": {
          "duration": 0.226255,
          "end_time": "2020-12-30T14:51:21.097618",
          "exception": false,
          "start_time": "2020-12-30T14:51:20.871363",
          "status": "completed"
        },
        "tags": []
      },
      "outputs": [
        {
          "data": {
            "image/png": "[encoded data removed]",
            "text/plain": [
              "<Figure size 640x480 with 1 Axes>"
            ]
          },
          "metadata": {},
          "output_type": "display_data"
        }
      ],
      "source": [
        "plt.plot(history.history['loss'])\n",
        "plt.plot(history.history['val_loss'])\n",
        "plt.title('model loss')\n",
        "plt.ylabel('loss')\n",
        "plt.xlabel('epoch')\n",
        "plt.legend(['train', 'val'], loc='upper left')\n",
        "plt.show()"
      ]
    },
    {
      "cell_type": "markdown",
      "metadata": {},
      "source": [
        "# Test Model"
      ]
    },
    {
      "cell_type": "code",
      "execution_count": 45,
      "metadata": {
        "colab": {
          "base_uri": "https://localhost:8080/"
        },
        "execution": {
          "iopub.execute_input": "2020-12-30T14:51:21.268500Z",
          "iopub.status.busy": "2020-12-30T14:51:21.267429Z",
          "iopub.status.idle": "2020-12-30T14:51:21.857341Z",
          "shell.execute_reply": "2020-12-30T14:51:21.857810Z"
        },
        "id": "HoHSw_QgW1Eo",
        "outputId": "ae92053d-8a7c-4b31-d3de-963d2ae51777",
        "papermill": {
          "duration": 0.676874,
          "end_time": "2020-12-30T14:51:21.857978",
          "exception": false,
          "start_time": "2020-12-30T14:51:21.181104",
          "status": "completed"
        },
        "tags": []
      },
      "outputs": [
        {
          "name": "stdout",
          "output_type": "stream",
          "text": [
            "1/1 [==============================] - 0s 370ms/step - loss: 3.4639 - acc: 0.9231 - recall_2: 1.0000 - auc_2: 0.9167 - precision_2: 0.8750\n"
          ]
        }
      ],
      "source": [
        "loss,acc,rec,auc,pre=model.evaluate(x_test, y_test)"
      ]
    },
    {
      "cell_type": "markdown",
      "metadata": {
        "id": "uUTN6UjvzxBL"
      },
      "source": [
        "# Save Model"
      ]
    },
    {
      "cell_type": "code",
      "execution_count": 38,
      "metadata": {
        "id": "5MS5VbxLzyFr"
      },
      "outputs": [],
      "source": [
        "model.save('CNN_eeg_model.h5')"
      ]
    }
  ],
  "metadata": {
    "accelerator": "GPU",
    "colab": {
      "gpuType": "T4",
      "provenance": [],
      "toc_visible": true
    },
    "kernelspec": {
      "display_name": "Python 3",
      "name": "python3"
    },
    "language_info": {
      "codemirror_mode": {
        "name": "ipython",
        "version": 3
      },
      "file_extension": ".py",
      "mimetype": "text/x-python",
      "name": "python",
      "nbconvert_exporter": "python",
      "pygments_lexer": "ipython3",
      "version": "3.7.6"
    },
    "papermill": {
      "duration": 38.731848,
      "end_time": "2020-12-30T14:51:23.998659",
      "environment_variables": {},
      "exception": null,
      "input_path": "__notebook__.ipynb",
      "output_path": "__notebook__.ipynb",
      "parameters": {},
      "start_time": "2020-12-30T14:50:45.266811",
      "version": "2.1.0"
    }
  },
  "nbformat": 4,
  "nbformat_minor": 0
}
